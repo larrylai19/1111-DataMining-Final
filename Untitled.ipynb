{
 "cells": [
  {
   "cell_type": "code",
   "execution_count": 21,
   "id": "1b81027c-d6ee-4526-9e1d-9a1ee2133eac",
   "metadata": {},
   "outputs": [],
   "source": [
    "import pandas as pd\n",
    "from numpy import mean\n",
    "import dataframe_image as dfi\n",
    "\n",
    "pd.set_option('display.max_columns', None)"
   ]
  },
  {
   "cell_type": "code",
   "execution_count": 2,
   "id": "7f029d73-cc61-4102-9159-241faa798111",
   "metadata": {},
   "outputs": [],
   "source": [
    "csvPath = 'YouTubeDataset_withChannelElapsed.csv'\n",
    "df = pd.read_csv(csvPath)\n",
    "orgData = df.drop_duplicates(subset=['channelId'])"
   ]
  },
  {
   "cell_type": "code",
   "execution_count": 3,
   "id": "5a2356a6-08e0-477e-84b3-9384123de53f",
   "metadata": {},
   "outputs": [],
   "source": [
    "data = orgData.set_index(['channelId']).drop(['index', 'videoId', 'videoPublished', 'likes/dislikes'], axis=1)"
   ]
  },
  {
   "cell_type": "code",
   "execution_count": 11,
   "id": "97d49396-4943-4f42-8c26-9aadbd307f42",
   "metadata": {},
   "outputs": [],
   "source": [
    "normalized_df_minmax = (data - data.min()) / (data.max() - data.min())\n",
    "normalized_df_mean = (data - data.mean()) / data.std()\n",
    "normalized_df = normalized_df_minmax"
   ]
  },
  {
   "cell_type": "code",
   "execution_count": 23,
   "id": "a12a0aef-c693-4c0e-9667-f21da3560d8d",
   "metadata": {},
   "outputs": [],
   "source": [
    "dfi.export(normalized_df.corr(), 'corr.png')"
   ]
  },
  {
   "cell_type": "code",
   "execution_count": null,
   "id": "77ad51a4-1f2e-4f15-9a1e-537da3222a54",
   "metadata": {},
   "outputs": [],
   "source": []
  }
 ],
 "metadata": {
  "kernelspec": {
   "display_name": "Python 3 (ipykernel)",
   "language": "python",
   "name": "python3"
  },
  "language_info": {
   "codemirror_mode": {
    "name": "ipython",
    "version": 3
   },
   "file_extension": ".py",
   "mimetype": "text/x-python",
   "name": "python",
   "nbconvert_exporter": "python",
   "pygments_lexer": "ipython3",
   "version": "3.9.12"
  }
 },
 "nbformat": 4,
 "nbformat_minor": 5
}
